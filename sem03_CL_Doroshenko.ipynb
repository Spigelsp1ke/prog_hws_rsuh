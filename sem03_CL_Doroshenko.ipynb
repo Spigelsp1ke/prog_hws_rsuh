{
  "cells": [
    {
      "cell_type": "markdown",
      "id": "6703f5f8-f71b-483e-89cf-4ffd1e5e6ec0",
      "metadata": {
        "id": "6703f5f8-f71b-483e-89cf-4ffd1e5e6ec0"
      },
      "source": [
        "## Задание 1.\n",
        "\n",
        "Пользователь вводит набор целых чисел через пробелы. Посчитайте сумму из получившегося набора, выведите минимальное и максимальное число."
      ]
    },
    {
      "cell_type": "code",
      "execution_count": 2,
      "id": "02d8cfd2-eae4-47f7-baf0-bf00476bd7d4",
      "metadata": {
        "id": "02d8cfd2-eae4-47f7-baf0-bf00476bd7d4",
        "tags": []
      },
      "outputs": [
        {
          "name": "stdout",
          "output_type": "stream",
          "text": [
            "Сумма чисел в наборе: 18\n",
            "Максимальное число: 6\n",
            "Минимальное значение: 3\n"
          ]
        }
      ],
      "source": [
        "lst = [int(x) for x in input().strip().split()]\n",
        "print(f'Сумма чисел в наборе: {sum(lst)}\\nМаксимальное число: {max(lst)}\\nМинимальное значение: {min(lst)}' )"
      ]
    },
    {
      "cell_type": "markdown",
      "id": "09e63457-6749-4bfb-a303-c882324644d7",
      "metadata": {
        "id": "09e63457-6749-4bfb-a303-c882324644d7"
      },
      "source": [
        "## Задание 2.\n",
        "\n",
        "Создайте список из чисел от 1 до 10. Вставьте после тройки число 30. Сделайте это двумя способами."
      ]
    },
    {
      "cell_type": "code",
      "execution_count": 5,
      "id": "8e696754-d285-4ea6-b958-ea205d80502e",
      "metadata": {
        "id": "8e696754-d285-4ea6-b958-ea205d80502e"
      },
      "outputs": [
        {
          "name": "stdout",
          "output_type": "stream",
          "text": [
            "[1, 2, 3, 30, 4, 5, 6, 7, 8, 9, 10]\n"
          ]
        }
      ],
      "source": [
        "lst = [int(x) for x in range(1, 11)]\n",
        "lst.insert(3, 30)\n",
        "print(lst)"
      ]
    },
    {
      "cell_type": "code",
      "execution_count": 17,
      "id": "05ba83d3",
      "metadata": {},
      "outputs": [
        {
          "name": "stdout",
          "output_type": "stream",
          "text": [
            "[1, 2, 3, 30, 4, 5, 6, 7, 8, 9, 10]\n"
          ]
        }
      ],
      "source": [
        "lst = [int(x) for x in range(1, 11)]\n",
        "lst[3:3] = [30]\n",
        "print(lst)"
      ]
    },
    {
      "cell_type": "markdown",
      "id": "027a3593-c6d2-4159-a5ba-bdc51cd71aba",
      "metadata": {
        "id": "027a3593-c6d2-4159-a5ba-bdc51cd71aba"
      },
      "source": [
        "## Задание 3.\n",
        "\n",
        "Дан список, в котором есть повторяющиеся элементы, в т.ч. элемент Х (н-р, какое-то число). Нужно удалить из списка все вхождения элемента Х."
      ]
    },
    {
      "cell_type": "code",
      "execution_count": 3,
      "id": "36db551f-a3fb-4c0d-a0aa-31b2d23387f4",
      "metadata": {
        "id": "36db551f-a3fb-4c0d-a0aa-31b2d23387f4"
      },
      "outputs": [
        {
          "name": "stdout",
          "output_type": "stream",
          "text": [
            "[5, 6, 7, 8] без 1\n"
          ]
        }
      ],
      "source": [
        "lst = [int(x) for x in input().split()]\n",
        "while 1 in lst:\n",
        "    lst.remove(1)\n",
        "print(f'{lst} без 1')"
      ]
    },
    {
      "cell_type": "markdown",
      "id": "55f5eced-64da-460a-b8e4-8f2a66241942",
      "metadata": {
        "id": "55f5eced-64da-460a-b8e4-8f2a66241942"
      },
      "source": [
        "## Задание 4.\n",
        "\n",
        "Пользователь вводит строчку из слов, разделенных пробелами. Отсортируйте слова в алфавитном порядке задом наперед (т.е., яблоко будет первее юлы) и выведите их столбиком (каждое слово на новой строчке)."
      ]
    },
    {
      "cell_type": "code",
      "execution_count": 34,
      "id": "e6ab9489-b559-4053-8892-72b65da659fe",
      "metadata": {
        "id": "e6ab9489-b559-4053-8892-72b65da659fe"
      },
      "outputs": [
        {
          "name": "stdout",
          "output_type": "stream",
          "text": [
            "яблоко\n",
            "юла\n",
            "помидор\n",
            "дыня\n",
            "банан\n",
            "арбуз\n"
          ]
        }
      ],
      "source": [
        "lst = input().strip().split()\n",
        "for i in sorted(lst, reverse = True):\n",
        "    print(i)"
      ]
    },
    {
      "cell_type": "markdown",
      "id": "5d2e081b-2fe0-4f85-9548-42fb61af4f77",
      "metadata": {
        "id": "5d2e081b-2fe0-4f85-9548-42fb61af4f77"
      },
      "source": [
        "## Задание 5.\n",
        "\n",
        "Напишите функцию, которая вычисляет степень числа (аналогичную оператору \\*\\*, только сам оператор, разумеется, использовать нельзя)."
      ]
    },
    {
      "cell_type": "code",
      "execution_count": 56,
      "id": "6bef021b-13bf-4876-b6c3-321c3d1a8d4b",
      "metadata": {
        "id": "6bef021b-13bf-4876-b6c3-321c3d1a8d4b"
      },
      "outputs": [
        {
          "name": "stdout",
          "output_type": "stream",
          "text": [
            "4 ** 4 = 256\n"
          ]
        }
      ],
      "source": [
        "def power(a, n):\n",
        "    return a ** n\n",
        "a = int(input())\n",
        "n = int(input())\n",
        "print(f'{a} ** {n} = {power(a, n)}')"
      ]
    },
    {
      "cell_type": "markdown",
      "id": "8693d9ff-bacf-41d8-a766-ad80d0d3ad6f",
      "metadata": {
        "id": "8693d9ff-bacf-41d8-a766-ad80d0d3ad6f"
      },
      "source": [
        "## Задание 6.\n",
        "\n",
        "Напишите функцию, которая принимает неограниченное количество аргументов-чисел и выводит их квадраты."
      ]
    },
    {
      "cell_type": "code",
      "execution_count": 55,
      "id": "eb944366-2247-4205-8ced-d804de0806d4",
      "metadata": {
        "id": "eb944366-2247-4205-8ced-d804de0806d4"
      },
      "outputs": [
        {
          "name": "stdout",
          "output_type": "stream",
          "text": [
            "[16, 25, 36, 49, 64]\n"
          ]
        }
      ],
      "source": [
        "def func(list):\n",
        "    res = [x ** 2 for x in map(int, list.split())]\n",
        "    return res\n",
        " \n",
        "lst = input()\n",
        "print(func(lst))"
      ]
    },
    {
      "cell_type": "markdown",
      "id": "6e74ce47-7453-428f-ba38-64a169147538",
      "metadata": {
        "id": "6e74ce47-7453-428f-ba38-64a169147538"
      },
      "source": [
        "## Задание 7.\n",
        "\n",
        "Напишите функцию, которая принимает неограниченное количество аргументов-строк и параметр = метод строки, который затем последовательно применяется к каждой строчке. Результаты можно вернуть списком. Оформите функцию грамотно, напишите docstring."
      ]
    },
    {
      "cell_type": "code",
      "execution_count": null,
      "id": "e0164705-bc8b-46de-9686-36a4cb405464",
      "metadata": {
        "id": "e0164705-bc8b-46de-9686-36a4cb405464"
      },
      "outputs": [],
      "source": []
    },
    {
      "cell_type": "markdown",
      "id": "448b4be8-53dd-470a-9a54-a16c4c1c3f71",
      "metadata": {
        "id": "448b4be8-53dd-470a-9a54-a16c4c1c3f71"
      },
      "source": [
        "## Задание 8.\n",
        "\n",
        "Отсортируйте список строчек в зависимости от того, сколько в каждой строке содержится букв а. (н-р, строчки \"мама\", \"арбуз\" и \"абракадабра\" должны выстроиться в \"арбуз\", \"мама\", \"абракадабра\")."
      ]
    },
    {
      "cell_type": "code",
      "execution_count": 92,
      "id": "98d5850a-3fd4-4bbe-a752-0184d2216fca",
      "metadata": {
        "id": "98d5850a-3fd4-4bbe-a752-0184d2216fca"
      },
      "outputs": [
        {
          "name": "stdout",
          "output_type": "stream",
          "text": [
            "['арбуз', 'мама', 'абракадабра']\n"
          ]
        }
      ],
      "source": [
        "def mysort(lst):\n",
        "    return lst.count('а')\n",
        "\n",
        "lst = input().strip().split()\n",
        "print(sorted(lst, key=mysort))"
      ]
    },
    {
      "cell_type": "markdown",
      "id": "3947341a-a5b6-4c06-a58b-5d9de7f3bf5d",
      "metadata": {
        "id": "3947341a-a5b6-4c06-a58b-5d9de7f3bf5d"
      },
      "source": [
        "## Задание 9.\n",
        "\n",
        "Напишите функцию-генератор, которая будет возвращать новые функции, возводящие в степень N. Т.е., функция-генератор принимает в качестве аргумента число N, а возвращает функцию, которая будет принимать число и возвращать его же в степени N."
      ]
    },
    {
      "cell_type": "code",
      "execution_count": 71,
      "id": "81d6128f-db52-4ab9-87a1-a788afdaf649",
      "metadata": {
        "id": "81d6128f-db52-4ab9-87a1-a788afdaf649",
        "tags": []
      },
      "outputs": [
        {
          "data": {
            "text/plain": [
              "(4, '4 ** 4 = 256')"
            ]
          },
          "execution_count": 71,
          "metadata": {},
          "output_type": "execute_result"
        }
      ],
      "source": [
        "def func(x, n):\n",
        "        n = int(input())\n",
        "        return int(input()), f'{x} ** {n} = {x ** n}' \n",
        "\n",
        "func(x, n)"
      ]
    },
    {
      "cell_type": "markdown",
      "id": "213e07ae-9496-4eda-adc0-eaf232793645",
      "metadata": {
        "id": "213e07ae-9496-4eda-adc0-eaf232793645",
        "tags": []
      },
      "source": [
        "## Задание 10.\n",
        "\n",
        "Напишите рекурсивную функцию, которая будет возвращать, является ли строка палиндромом. На вход функция получает строки типа \"абба, \"абсба\" и подобные (пробелов внутри этих строк нет)."
      ]
    },
    {
      "cell_type": "code",
      "execution_count": 2,
      "id": "9d54f815",
      "metadata": {},
      "outputs": [
        {
          "name": "stdout",
          "output_type": "stream",
          "text": [
            "абба - палиндром\n"
          ]
        }
      ],
      "source": [
        "def palind(string):\n",
        "  if len(string) < 1:\n",
        "        return True\n",
        "  else:\n",
        "    if string == string[::-1]:\n",
        "      return True\n",
        "    else:\n",
        "      return False\n",
        "    \n",
        "string = input()\n",
        "if palind(string) == True:\n",
        "    print(f'{string} - палиндром')"
      ]
    }
  ],
  "metadata": {
    "colab": {
      "provenance": []
    },
    "kernelspec": {
      "display_name": "Python 3 (ipykernel)",
      "language": "python",
      "name": "python3"
    },
    "language_info": {
      "codemirror_mode": {
        "name": "ipython",
        "version": 3
      },
      "file_extension": ".py",
      "mimetype": "text/x-python",
      "name": "python",
      "nbconvert_exporter": "python",
      "pygments_lexer": "ipython3",
      "version": "3.10.11"
    }
  },
  "nbformat": 4,
  "nbformat_minor": 5
}
