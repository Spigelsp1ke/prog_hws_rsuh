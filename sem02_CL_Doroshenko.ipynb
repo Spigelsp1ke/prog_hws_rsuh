{
  "cells": [
    {
      "cell_type": "markdown",
      "id": "99e816fb-e950-4375-a731-5ede4d2c7e1f",
      "metadata": {
        "id": "99e816fb-e950-4375-a731-5ede4d2c7e1f"
      },
      "source": [
        "### Повторим немного пройденное"
      ]
    },
    {
      "cell_type": "markdown",
      "id": "5f70c975-a5eb-4dd0-94d0-0038cfa1a4d3",
      "metadata": {
        "id": "5f70c975-a5eb-4dd0-94d0-0038cfa1a4d3"
      },
      "source": [
        "#### Задача 1.\n",
        "\n",
        "Напишите программу, которая считывает длины двух катетов в прямоугольном треугольнике и выводит его площадь."
      ]
    },
    {
      "cell_type": "code",
      "execution_count": 1,
      "id": "f4514e9e-22b7-48f6-8b9f-a9735e7b632b",
      "metadata": {
        "id": "f4514e9e-22b7-48f6-8b9f-a9735e7b632b"
      },
      "outputs": [
        {
          "name": "stdout",
          "output_type": "stream",
          "text": [
            "Введите длину катета 1:\n",
            "Введите длину катета 2:\n",
            "Площадь прямоугольного треугольника равна: 10.0\n"
          ]
        }
      ],
      "source": [
        "print('Введите длину катета 1:')\n",
        "len1 = int(input())\n",
        "print('Введите длину катета 2:')\n",
        "len2 = int(input())\n",
        "print(f'Площадь прямоугольного треугольника равна: {len1 * len2 / 2}')"
      ]
    },
    {
      "cell_type": "markdown",
      "id": "8712b5cd-d94d-4120-9f69-2406abaab58c",
      "metadata": {
        "id": "8712b5cd-d94d-4120-9f69-2406abaab58c"
      },
      "source": [
        "#### Задача 2.\n",
        "\n",
        "В школе решили набрать три новых математических класса. Так как занятия по математике у них проходят в одно и то же время, было решено выделить кабинет для каждого класса и купить в них новые парты. За каждой партой может сидеть не больше двух учеников. Известно количество учащихся в каждом из трёх классов. Сколько всего нужно закупить парт, чтобы их хватило на всех учеников? Программа получает на вход три натуральных числа: количество учащихся в каждом из трех классов."
      ]
    },
    {
      "cell_type": "code",
      "execution_count": 37,
      "id": "1215a8dc-af90-4a99-9a15-23fa0d2d8836",
      "metadata": {
        "id": "1215a8dc-af90-4a99-9a15-23fa0d2d8836"
      },
      "outputs": [
        {
          "name": "stdout",
          "output_type": "stream",
          "text": [
            "Введите кол-во учащихся в первом классе\n",
            "Введите кол-во учащихся в втором классе\n",
            "Введите кол-во учащихся в третьем классе\n",
            "Количество парт, которое нужно закупить: 21\n"
          ]
        }
      ],
      "source": [
        "print('Введите кол-во учащихся в первом классе')\n",
        "first_class = int(input())\n",
        "print('Введите кол-во учащихся в втором классе')\n",
        "second_class = int(input())\n",
        "print('Введите кол-во учащихся в третьем классе')\n",
        "third_class = int(input())\n",
        "tables = first_class // 2 + second_class // 2 + third_class // 2\n",
        "leftover = first_class % 2 + second_class % 2 + third_class % 2\n",
        "print(f'Количество парт, которое нужно закупить: {tables + leftover}')"
      ]
    },
    {
      "cell_type": "markdown",
      "id": "4dbb7cbd-9d50-4803-a5b7-674c0e47bfd1",
      "metadata": {
        "id": "4dbb7cbd-9d50-4803-a5b7-674c0e47bfd1"
      },
      "source": [
        "### Строки"
      ]
    },
    {
      "cell_type": "markdown",
      "id": "cda9bada-37db-4d5d-a1d8-3588482cb504",
      "metadata": {
        "id": "cda9bada-37db-4d5d-a1d8-3588482cb504"
      },
      "source": [
        "#### Задача 3.\n",
        "\n",
        "Пользователь вводит строку. проверьте, является ли она числом, и увеличьте это число на единицу."
      ]
    },
    {
      "cell_type": "code",
      "execution_count": 8,
      "id": "e5b22488-d978-4262-991f-2beb3655c26f",
      "metadata": {
        "id": "e5b22488-d978-4262-991f-2beb3655c26f"
      },
      "outputs": [
        {
          "name": "stdout",
          "output_type": "stream",
          "text": [
            "Введите строку:\n",
            "5\n"
          ]
        }
      ],
      "source": [
        "print('Введите строку:')\n",
        "string = input()\n",
        "if string.isdigit():\n",
        "    print(int(string) + 1)\n",
        "else:\n",
        "    print(string) "
      ]
    },
    {
      "cell_type": "markdown",
      "id": "2739c3b8-3dff-4b85-8e86-df6b860ee48b",
      "metadata": {
        "id": "2739c3b8-3dff-4b85-8e86-df6b860ee48b"
      },
      "source": [
        "#### Задача 4.\n",
        "\n",
        "Пользователь вводит строку. Проверьте, похожа ли она на название песни (слова начинаются с заглавной буквы)."
      ]
    },
    {
      "cell_type": "code",
      "execution_count": 13,
      "id": "e8edaa09-3f14-4c94-9544-f88236e8d8b0",
      "metadata": {
        "id": "e8edaa09-3f14-4c94-9544-f88236e8d8b0"
      },
      "outputs": [
        {
          "name": "stdout",
          "output_type": "stream",
          "text": [
            "Введите строку:\n",
            "Ваша строка похожа на название песни\n"
          ]
        }
      ],
      "source": [
        "print('Введите строку:')\n",
        "string = input()\n",
        "if string.istitle():\n",
        "    print('Ваша строка похожа на название песни')"
      ]
    },
    {
      "cell_type": "markdown",
      "id": "1a51c58a-5498-4e19-a2b1-ee612234b08d",
      "metadata": {
        "id": "1a51c58a-5498-4e19-a2b1-ee612234b08d"
      },
      "source": [
        "#### Задача 5.\n",
        "\n",
        "Пользователь вводит строку - название файла с расширением. Выведите только расширение (все, что после точки). Точка может встречаться в самом названии файла, а в расширении - нет."
      ]
    },
    {
      "cell_type": "code",
      "execution_count": 16,
      "id": "03fb952e-da9b-4798-94fa-e1e59e2aaa54",
      "metadata": {
        "id": "03fb952e-da9b-4798-94fa-e1e59e2aaa54"
      },
      "outputs": [
        {
          "name": "stdout",
          "output_type": "stream",
          "text": [
            "Введите название файла с раширением\n",
            "Расширение : exe\n"
          ]
        }
      ],
      "source": [
        "print('Введите название файла с раширением')\n",
        "name = input()\n",
        "print(f'Расширение : {name[name.rfind(\".\")+1:]}')"
      ]
    },
    {
      "cell_type": "markdown",
      "id": "d99c0849-b476-4956-a7e2-d48105add7e5",
      "metadata": {
        "id": "d99c0849-b476-4956-a7e2-d48105add7e5"
      },
      "source": [
        "### Циклы"
      ]
    },
    {
      "cell_type": "markdown",
      "id": "ef8d684b-7c89-4045-b514-1383c6e6513d",
      "metadata": {
        "id": "ef8d684b-7c89-4045-b514-1383c6e6513d"
      },
      "source": [
        "#### Задача 6.\n",
        "\n",
        "По данному целому числу N распечатайте все квадраты натуральных чисел, не превосходящие N, в порядке возрастания."
      ]
    },
    {
      "cell_type": "code",
      "execution_count": 19,
      "id": "e78ee14f-0514-450a-bd01-c47e80ff0864",
      "metadata": {
        "id": "e78ee14f-0514-450a-bd01-c47e80ff0864"
      },
      "outputs": [
        {
          "name": "stdout",
          "output_type": "stream",
          "text": [
            "Введите число:\n",
            "1\n",
            "4\n",
            "9\n",
            "16\n",
            "25\n",
            "36\n",
            "49\n",
            "64\n",
            "81\n",
            "100\n",
            "121\n"
          ]
        }
      ],
      "source": [
        "print('Введите число:')\n",
        "n = int(input())\n",
        "for i in range(1, n):\n",
        "    print(i ** 2)"
      ]
    },
    {
      "cell_type": "markdown",
      "id": "51778807-f95c-4c25-97b3-12108e83d35a",
      "metadata": {
        "id": "51778807-f95c-4c25-97b3-12108e83d35a"
      },
      "source": [
        "#### Задача 7.\n",
        "\n",
        "Определите среднее значение всех элементов последовательности, завершающейся числом 0. Списками пользоваться нельзя."
      ]
    },
    {
      "cell_type": "code",
      "execution_count": 33,
      "id": "143e4835-e2c8-490c-adca-6d757559c183",
      "metadata": {
        "id": "143e4835-e2c8-490c-adca-6d757559c183"
      },
      "outputs": [
        {
          "name": "stdout",
          "output_type": "stream",
          "text": [
            "Среднее значение всех элементов: 2.5\n"
          ]
        }
      ],
      "source": [
        "sum = 0\n",
        "len = 0\n",
        "num = int(input())\n",
        "while num != 0:\n",
        "  sum += num\n",
        "  len += 1\n",
        "  num = int(input())\n",
        "print(f'Среднее значение всех элементов: {sum / len}')"
      ]
    },
    {
      "cell_type": "markdown",
      "id": "df8fd63b-500b-4184-8b65-35cba32c9ffd",
      "metadata": {
        "id": "df8fd63b-500b-4184-8b65-35cba32c9ffd"
      },
      "source": [
        "#### Задача 8.\n",
        "\n",
        "Факториалом числа n называется произведение 1 × 2 × ... × n. Обозначение: n!.\n",
        "По данному натуральному n вычислите значение n!. Пользоваться математической библиотекой math в этой задаче запрещено."
      ]
    },
    {
      "cell_type": "code",
      "execution_count": 32,
      "id": "4646a03a-8f57-4ec9-a830-0a4b66dc1203",
      "metadata": {
        "id": "4646a03a-8f57-4ec9-a830-0a4b66dc1203"
      },
      "outputs": [
        {
          "name": "stdout",
          "output_type": "stream",
          "text": [
            "Факториал числа 5: 120\n"
          ]
        }
      ],
      "source": [
        "factorial = 1\n",
        "n = int(input())\n",
        "for i in range(1, n + 1):\n",
        "    factorial *= i\n",
        "print(f'Факториал числа {n}: {factorial}')"
      ]
    },
    {
      "cell_type": "markdown",
      "id": "308ad628-35c5-4fb6-8740-0d0fa18b9098",
      "metadata": {
        "id": "308ad628-35c5-4fb6-8740-0d0fa18b9098"
      },
      "source": [
        "#### Задача 9.\n",
        "\n",
        "Выведите числа от 1 до 9 таким образом, чтобы образовалась лесенка:\n",
        "\n",
        "    1\n",
        "    1 2\n",
        "    1 2 3\n",
        "    1 2 3 4\n",
        "    ..."
      ]
    },
    {
      "cell_type": "code",
      "execution_count": 23,
      "id": "498090a6-aa04-47b5-865d-7bad1bd4d343",
      "metadata": {
        "id": "498090a6-aa04-47b5-865d-7bad1bd4d343"
      },
      "outputs": [
        {
          "name": "stdout",
          "output_type": "stream",
          "text": [
            "1 \n",
            "1 2 \n",
            "1 2 3 \n",
            "1 2 3 4 \n",
            "1 2 3 4 5 \n",
            "1 2 3 4 5 6 \n",
            "1 2 3 4 5 6 7 \n",
            "1 2 3 4 5 6 7 8 \n",
            "1 2 3 4 5 6 7 8 9 \n"
          ]
        }
      ],
      "source": [
        "for i in range(1, 10):\n",
        "  for j in range(1, i + 1):\n",
        "    print(f'{j} ', end='')\n",
        "  print()"
      ]
    },
    {
      "cell_type": "markdown",
      "id": "0242f642-fb26-485b-849c-b44ffe339b21",
      "metadata": {
        "id": "0242f642-fb26-485b-849c-b44ffe339b21"
      },
      "source": [
        "#### Задача 10.\n",
        "\n",
        "Определите сумму всех элементов последовательности, завершающейся числом 0. (Вводится последовательность, пока не введется ноль, и нужно вывести сумму всех введенных чисел. Списками пользоваться нельзя)."
      ]
    },
    {
      "cell_type": "code",
      "execution_count": 31,
      "id": "822e8f7a-632e-4058-8753-78eecd7e082c",
      "metadata": {
        "id": "822e8f7a-632e-4058-8753-78eecd7e082c"
      },
      "outputs": [
        {
          "name": "stdout",
          "output_type": "stream",
          "text": [
            "Сумма всех элементов последовательности: 36\n"
          ]
        }
      ],
      "source": [
        "sum = 0\n",
        "while True:\n",
        "  n = int(input())\n",
        "  sum += n\n",
        "  if n == 0:\n",
        "      print(f'Сумма всех элементов последовательности: {sum}')\n",
        "      break"
      ]
    },
    {
      "cell_type": "markdown",
      "id": "6962700c-b918-4a75-b858-cc0df6193685",
      "metadata": {
        "id": "6962700c-b918-4a75-b858-cc0df6193685"
      },
      "source": [
        "### Исключения"
      ]
    },
    {
      "cell_type": "markdown",
      "id": "e9cd65b1-e775-4521-9432-bb84762339c8",
      "metadata": {
        "id": "e9cd65b1-e775-4521-9432-bb84762339c8"
      },
      "source": [
        "#### Задача 11.\n",
        "\n",
        "Решите первую задачу с помощью try и except."
      ]
    },
    {
      "cell_type": "code",
      "execution_count": 41,
      "id": "d8eb3e63-9bfb-4265-9a82-bf648b0f76d6",
      "metadata": {
        "id": "d8eb3e63-9bfb-4265-9a82-bf648b0f76d6"
      },
      "outputs": [
        {
          "name": "stdout",
          "output_type": "stream",
          "text": [
            "Введите длину катета 1:\n",
            "Вы ввели не число\n",
            "Введите длину катета 2:\n",
            "Площадь прямоугольного треугольника равна: 6.0\n"
          ]
        }
      ],
      "source": [
        "print('Введите длину катета 1:')\n",
        "try:\n",
        "    len1 = int(input())\n",
        "except ValueError:\n",
        "    print('Вы ввели не число. Введите число')\n",
        "len1 = int(input())\n",
        "print('Введите длину катета 2:')\n",
        "try:\n",
        "    len2 = input()\n",
        "except ValueError:\n",
        "    print('Вы ввели не число. Введите число')\n",
        "len2 = int(input())\n",
        "print(f'Площадь прямоугольного треугольника равна: {len1 * len2 / 2}')"
      ]
    }
  ],
  "metadata": {
    "colab": {
      "provenance": []
    },
    "kernelspec": {
      "display_name": "Python 3 (ipykernel)",
      "language": "python",
      "name": "python3"
    },
    "language_info": {
      "codemirror_mode": {
        "name": "ipython",
        "version": 3
      },
      "file_extension": ".py",
      "mimetype": "text/x-python",
      "name": "python",
      "nbconvert_exporter": "python",
      "pygments_lexer": "ipython3",
      "version": "3.10.11"
    }
  },
  "nbformat": 4,
  "nbformat_minor": 5
}
