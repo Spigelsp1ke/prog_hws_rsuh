{
  "cells": [
    {
      "cell_type": "markdown",
      "id": "13ab0a72-3e26-4c62-9a5d-efd35e396392",
      "metadata": {
        "id": "13ab0a72-3e26-4c62-9a5d-efd35e396392"
      },
      "source": [
        "#### Задача 1.\n",
        "\n",
        "Известно, что в итальянском языке буква с читается по-разному: если после нее идут буквы i и е, то она читается как \"ч\", а если a, o, u - то как \"к\". Две с удваиваются в любом варианте. Сочетание gl читается как ль. Нам нужно помочь человеку, изучающему язык, и для введенных им слов подсказывать ему, как правильно читается фраза. Например:\n",
        "\n",
        "    >>> cio che lui fa\n",
        "    >>> CHo Ke lui fa\n",
        "    >>> pagliaccio\n",
        "    >>> paL'aCHCHo\n",
        "    >>> è meglio che lo faccia tu\n",
        "    >>> è meL'io Ke lo faCHCHa tu"
      ]
    },
    {
      "cell_type": "code",
      "execution_count": 44,
      "id": "7411542a-8251-4453-9540-fa59821d3d20",
      "metadata": {
        "id": "7411542a-8251-4453-9540-fa59821d3d20",
        "outputId": "548f57a5-b5eb-4387-952c-73ad643b747f",
        "colab": {
          "base_uri": "https://localhost:8080/"
        }
      },
      "outputs": [
        {
          "output_type": "stream",
          "name": "stdout",
          "text": [
            "Введите фразу:\n",
            "che cosa ci consiglia\n",
            "Ke Ksa CH KnsiL'ia\n"
          ]
        }
      ],
      "source": [
        "print('Введите фразу:')\n",
        "it_sentence = input()\n",
        "it_sentence = it_sentence.replace('ci', 'CH').replace('ce', 'CH')\n",
        "it_sentence = it_sentence.replace('ch', 'K').replace('ca', 'K').replace('co', 'K').replace('cu', 'K')\n",
        "it_sentence = it_sentence.replace('cCH', 'CHCH')\n",
        "it_sentence = it_sentence.replace('cK', 'KK')\n",
        "it_sentence = it_sentence.replace('gl', \"L'\")\n",
        "print(it_sentence)"
      ]
    },
    {
      "cell_type": "markdown",
      "id": "95892d08-3546-42ae-875a-319d6083e067",
      "metadata": {
        "id": "95892d08-3546-42ae-875a-319d6083e067"
      },
      "source": [
        "#### Задача 2.\n",
        "\n",
        "Программа считывает с клавиатуры какой-нибудь довольно большой текст (пару предложений) и должна посчитать, сколько раз в этом тексте встретился союз \"и\" (считаем, что вокруг союза обязательно есть по пробелу: \" и \")."
      ]
    },
    {
      "cell_type": "code",
      "execution_count": 46,
      "id": "9ba8d83a-1671-4af9-a691-78849c4ff613",
      "metadata": {
        "id": "9ba8d83a-1671-4af9-a691-78849c4ff613",
        "colab": {
          "base_uri": "https://localhost:8080/"
        },
        "outputId": "ce31b2fd-d860-40a2-92f7-c9b90907cd4a"
      },
      "outputs": [
        {
          "output_type": "stream",
          "name": "stdout",
          "text": [
            "Введите текст:\n",
            "Я пошел домой и по дороге зашел в магазин и купил йогурт и молоко. После этого, я пришел домой, поужинал и сел за компьютер\n",
            "Количество союзов и в тексте: 4\n"
          ]
        }
      ],
      "source": [
        "print('Введите текст:')\n",
        "text = input()\n",
        "print(f'Количество союзов и в тексте: {text.count(\" и \")}')"
      ]
    },
    {
      "cell_type": "markdown",
      "id": "40306261-7387-45f1-b193-e6be4f7eb09c",
      "metadata": {
        "id": "40306261-7387-45f1-b193-e6be4f7eb09c"
      },
      "source": [
        "#### Задача 3.\n",
        "\n",
        "Пользователь вводит строчку. Наша задача - вернуть ее задом наперед (н-р, \"йцукен\" должно превратиться в \"некуцй\"). Используйте срезы."
      ]
    },
    {
      "cell_type": "code",
      "execution_count": 29,
      "id": "a0cb7788-ed1e-4b85-882e-8bc874d0bbd7",
      "metadata": {
        "id": "a0cb7788-ed1e-4b85-882e-8bc874d0bbd7",
        "colab": {
          "base_uri": "https://localhost:8080/"
        },
        "outputId": "b4b005c1-1157-4a16-d4fa-142e58d52120"
      },
      "outputs": [
        {
          "output_type": "stream",
          "name": "stdout",
          "text": [
            "Введите строку:\n",
            "привет\n",
            "Введенная строка наоборот: тевирп\n"
          ]
        }
      ],
      "source": [
        "print('Введите строку:')\n",
        "string = input()\n",
        "print(f'Введенная строка наоборот: {string[::-1]}')"
      ]
    },
    {
      "cell_type": "markdown",
      "id": "1c3785ef-25aa-475f-b6ac-a42520e54746",
      "metadata": {
        "id": "1c3785ef-25aa-475f-b6ac-a42520e54746"
      },
      "source": [
        "#### Задача 4.\n",
        "\n",
        "Дана строка. Разрежьте ее на две равные части (если длина строки — четная, а если длина строки нечетная, то длина первой части должна быть на один символ больше). Переставьте эти две части местами, результат запишите в новую строку и выведите на экран."
      ]
    },
    {
      "cell_type": "code",
      "execution_count": 18,
      "id": "63651424-f251-44ab-87d1-32a55e753813",
      "metadata": {
        "id": "63651424-f251-44ab-87d1-32a55e753813",
        "colab": {
          "base_uri": "https://localhost:8080/"
        },
        "outputId": "33e48231-03d9-44fc-b1e8-3862378713a1"
      },
      "outputs": [
        {
          "output_type": "stream",
          "name": "stdout",
          "text": [
            "Введите строку:\n",
            "hi mom\n",
            " momhi\n"
          ]
        }
      ],
      "source": [
        "print('Введите строку:')\n",
        "string = input()\n",
        "l = len(string)\n",
        "if l % 2 == 0:\n",
        "  part_1 = string[0:l//2]\n",
        "  part_2 = string[l//2:]\n",
        "  print(f'{part_2}{part_1}')\n",
        "if l % 2 == 1:\n",
        "  part_1 = string[0:l//2+1]\n",
        "  part_2 = string[l//2+1:]\n",
        "  print(f'{part_2}{part_1}')"
      ]
    },
    {
      "cell_type": "markdown",
      "id": "9d25ac51-b920-425b-85d5-8ebb234f2b4d",
      "metadata": {
        "id": "9d25ac51-b920-425b-85d5-8ebb234f2b4d"
      },
      "source": [
        "#### Задача 5.\n",
        "\n",
        "Дана строка, состоящая ровно из двух слов, разделенных пробелом. Переставьте эти слова местами. Результат запишите в строку и выведите получившуюся строку."
      ]
    },
    {
      "cell_type": "code",
      "execution_count": 20,
      "id": "e1b67595-a918-4d4e-b970-b54ca7018429",
      "metadata": {
        "id": "e1b67595-a918-4d4e-b970-b54ca7018429",
        "colab": {
          "base_uri": "https://localhost:8080/"
        },
        "outputId": "580dbcb5-471a-4e11-a275-bd690f321734"
      },
      "outputs": [
        {
          "output_type": "stream",
          "name": "stdout",
          "text": [
            "Введите строку:\n",
            "hello world\n",
            "world hello\n"
          ]
        }
      ],
      "source": [
        "print('Введите строку:')\n",
        "string = input()\n",
        "part_1 = string[0: string.find(' ')]\n",
        "part_2 = string[string.find(' ')+1:]\n",
        "print(f'{part_2} {part_1}')"
      ]
    },
    {
      "cell_type": "markdown",
      "id": "02293832-374f-467b-955c-8c13a24d34cf",
      "metadata": {
        "id": "02293832-374f-467b-955c-8c13a24d34cf"
      },
      "source": [
        "#### Задача 6.\n",
        "\n",
        "Дана строка. Если в этой строке буква f встречается только один раз, выведите её индекс. Если она встречается два и более раз, выведите индекс её первого и последнего появления. Если буква f в данной строке не встречается, ничего не выводите."
      ]
    },
    {
      "cell_type": "code",
      "execution_count": 48,
      "id": "62d441b0-3237-40b7-9163-b92d9bf12702",
      "metadata": {
        "id": "62d441b0-3237-40b7-9163-b92d9bf12702",
        "colab": {
          "base_uri": "https://localhost:8080/"
        },
        "outputId": "494bc338-655e-444e-810d-15f1e5e7b898"
      },
      "outputs": [
        {
          "output_type": "stream",
          "name": "stdout",
          "text": [
            "Введите строку:\n",
            "I have played football for five years now\n",
            "14, 27\n"
          ]
        }
      ],
      "source": [
        "print('Введите строку:')\n",
        "string = input()\n",
        "f = string.count('f')\n",
        "if f == 1:\n",
        "  print(string.index('f'))\n",
        "elif f > 1:\n",
        "  print(f'{string.index(\"f\")}, {string.rindex(\"f\")}')"
      ]
    },
    {
      "cell_type": "markdown",
      "id": "ff719f25-a59a-4e36-8bb2-1874ec0a79c6",
      "metadata": {
        "id": "ff719f25-a59a-4e36-8bb2-1874ec0a79c6"
      },
      "source": [
        "#### Задача 7.\n",
        "\n",
        "Дана строка. Найдите в этой строке второе вхождение буквы f, и выведите индекс этого вхождения. Если буква f в данной строке встречается только один раз, выведите число -1, а если не встречается ни разу, выведите число -2."
      ]
    },
    {
      "cell_type": "code",
      "execution_count": 31,
      "id": "91da8bf8-bff6-47b6-9ee3-d51a4a25cb62",
      "metadata": {
        "id": "91da8bf8-bff6-47b6-9ee3-d51a4a25cb62",
        "colab": {
          "base_uri": "https://localhost:8080/"
        },
        "outputId": "c88bb189-5b62-4183-bcd3-213e385ebf97"
      },
      "outputs": [
        {
          "output_type": "stream",
          "name": "stdout",
          "text": [
            "Введите строку:\n",
            "half-life\n",
            "7\n"
          ]
        }
      ],
      "source": [
        "print('Введите строку:')\n",
        "string = input()\n",
        "f = string.count('f')\n",
        "if f > 1:\n",
        "  print(f'{string.find(\"f\", string.find(\"f\") + 1)}')\n",
        "elif f == 1:\n",
        "  print(-1)\n",
        "elif f == 0:\n",
        "  print(-2)"
      ]
    },
    {
      "cell_type": "markdown",
      "id": "670e4941-c0f1-4419-be51-1f8c3762a356",
      "metadata": {
        "id": "670e4941-c0f1-4419-be51-1f8c3762a356"
      },
      "source": [
        "#### Задача 8.\n",
        "\n",
        "Дана строка, в которой буква h встречается минимум два раза. Удалите из этой строки первое и последнее вхождение буквы h, а также все символы, находящиеся между ними.\n",
        "\n",
        "Например, для строки \"In the hole in the ground there lived a hobbit\" результатом должно стать \"In tobbit\"."
      ]
    },
    {
      "cell_type": "code",
      "execution_count": 33,
      "id": "b70b3d56-b952-48b9-96a7-0f51e8f02d23",
      "metadata": {
        "id": "b70b3d56-b952-48b9-96a7-0f51e8f02d23",
        "colab": {
          "base_uri": "https://localhost:8080/"
        },
        "outputId": "3f9f7ca1-1bd0-4d54-9b76-7dcaca0381ba"
      },
      "outputs": [
        {
          "output_type": "stream",
          "name": "stdout",
          "text": [
            "Введите строку:\n",
            "In the hole in the ground there lived a hobbit\n",
            "In tobbit\n"
          ]
        }
      ],
      "source": [
        "print('Введите строку:')\n",
        "string = input()\n",
        "part_1 = string[0: string.find('h')]\n",
        "part_2 = string[string.find('h')+1:string.rfind('h')]\n",
        "part_3 = string[string.rfind('h')+1:]\n",
        "print(f'{part_1}{part_3}')"
      ]
    },
    {
      "cell_type": "markdown",
      "id": "5bfd0835-816f-4b63-924a-6b8ffc450f84",
      "metadata": {
        "id": "5bfd0835-816f-4b63-924a-6b8ffc450f84"
      },
      "source": [
        "#### Задача 9.\n",
        "\n",
        "Дана строка, в которой буква h встречается как минимум два раза. Разверните последовательность символов, заключенную между первым и последним появлением буквы h, в противоположном порядке."
      ]
    },
    {
      "cell_type": "code",
      "execution_count": 40,
      "id": "41626b06-dd63-44d6-95b4-4e745d3b1ec5",
      "metadata": {
        "id": "41626b06-dd63-44d6-95b4-4e745d3b1ec5",
        "colab": {
          "base_uri": "https://localhost:8080/"
        },
        "outputId": "29ba07a9-bee0-4fa0-df0e-9e2b65d76fa1"
      },
      "outputs": [
        {
          "output_type": "stream",
          "name": "stdout",
          "text": [
            "Введите строку:\n",
            "Homer was a happy hamster who lived in a heart shaped house.\n",
            " depahs traeh a ni devil ohw retsmah yppa\n"
          ]
        }
      ],
      "source": [
        "print('Введите строку:')\n",
        "string = input()\n",
        "part_1 = string[0: string.find('h')]\n",
        "part_2 = string[string.find('h')+1:string.rfind('h')]\n",
        "part_3 = string[string.rfind('h')+1:]\n",
        "print(f'{part_2[::-1]}')"
      ]
    },
    {
      "cell_type": "markdown",
      "id": "96ae2098-dc1f-4b2a-adcf-57a76d1ca64c",
      "metadata": {
        "id": "96ae2098-dc1f-4b2a-adcf-57a76d1ca64c"
      },
      "source": [
        "#### Задача 10.\n",
        "\n",
        "Дана строка. Замените в этой строке все появления буквы h на букву H, кроме первого и последнего вхождения."
      ]
    },
    {
      "cell_type": "code",
      "execution_count": 41,
      "id": "898c8d3a-1555-48d9-b0af-763f2617434d",
      "metadata": {
        "id": "898c8d3a-1555-48d9-b0af-763f2617434d",
        "colab": {
          "base_uri": "https://localhost:8080/"
        },
        "outputId": "b6379db8-83b7-446a-a69f-5754fbcae551"
      },
      "outputs": [
        {
          "output_type": "stream",
          "name": "stdout",
          "text": [
            "Введите строку:\n",
            "Homer was a happy hamster who lived in a heart shaped house.\n",
            "Homer was a happy Hamster wHo lived in a Heart sHaped house.\n"
          ]
        }
      ],
      "source": [
        "print('Введите строку:')\n",
        "string = input()\n",
        "part_1 = string[0: string.find('h')+1]\n",
        "part_2 = string[string.find('h')+1:string.rfind('h')]\n",
        "part_3 = string[string.rfind('h'):]\n",
        "print(f'{part_1}{part_2.replace(\"h\", \"H\")}{part_3}')"
      ]
    }
  ],
  "metadata": {
    "kernelspec": {
      "display_name": "Python 3 (ipykernel)",
      "language": "python",
      "name": "python3"
    },
    "language_info": {
      "codemirror_mode": {
        "name": "ipython",
        "version": 3
      },
      "file_extension": ".py",
      "mimetype": "text/x-python",
      "name": "python",
      "nbconvert_exporter": "python",
      "pygments_lexer": "ipython3",
      "version": "3.9.12"
    },
    "colab": {
      "provenance": []
    }
  },
  "nbformat": 4,
  "nbformat_minor": 5
}