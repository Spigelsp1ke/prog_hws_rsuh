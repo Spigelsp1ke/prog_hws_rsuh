{
  "cells": [
    {
      "cell_type": "markdown",
      "id": "057901d2-93bf-4865-a3c7-ef29f39bd8d5",
      "metadata": {
        "id": "057901d2-93bf-4865-a3c7-ef29f39bd8d5"
      },
      "source": [
        "#### Задача 1.\n",
        "\n",
        "Пользователь вводит строчку, в которой попадаются символы \"@\". Нужно удалить все такие символы."
      ]
    },
    {
      "cell_type": "code",
      "execution_count": null,
      "id": "64a85dae-f43c-4e0e-b900-92099cf6a782",
      "metadata": {
        "id": "64a85dae-f43c-4e0e-b900-92099cf6a782",
        "colab": {
          "base_uri": "https://localhost:8080/"
        },
        "outputId": "176765b0-aaf9-4fde-bca7-ded0b89d35af"
      },
      "outputs": [
        {
          "output_type": "stream",
          "name": "stdout",
          "text": [
            "s@sfdgfgfgg@shs\n",
            "ssfdgfgfggshs\n"
          ]
        }
      ],
      "source": [
        "s = input()\n",
        "print(s.replace('@', ''))"
      ]
    },
    {
      "cell_type": "markdown",
      "id": "7aca1815-ca3c-4404-9dde-d127a74a6eb1",
      "metadata": {
        "id": "7aca1815-ca3c-4404-9dde-d127a74a6eb1"
      },
      "source": [
        "#### Задача 2.\n",
        "\n",
        "Пользователь ввел несколько слов, разделенных пробелами. Посчитайте количество слов в строке (если знаете несколько способов - сделайте это несколькими способами)."
      ]
    },
    {
      "cell_type": "code",
      "execution_count": null,
      "id": "976e3d75-8416-4c84-a2c5-9fde10d390c0",
      "metadata": {
        "id": "976e3d75-8416-4c84-a2c5-9fde10d390c0",
        "colab": {
          "base_uri": "https://localhost:8080/"
        },
        "outputId": "ff05eab9-7a79-4cd1-ffc1-82faa45cbef6"
      },
      "outputs": [
        {
          "output_type": "stream",
          "name": "stdout",
          "text": [
            "hello my name is\n",
            "4\n"
          ]
        }
      ],
      "source": [
        "a = input()\n",
        "print(a.count(' ') + 1)"
      ]
    },
    {
      "cell_type": "markdown",
      "id": "a37abcb4-fb0a-4608-87b1-2f06a0faebaa",
      "metadata": {
        "id": "a37abcb4-fb0a-4608-87b1-2f06a0faebaa"
      },
      "source": [
        "#### Задача 3.\n",
        "\n",
        "Пользователь вводит некий инфинитив глагола. Программа должна проверить, заканчивается ли глагол на -ся и содержит ли он приставку \"пере\" (т.е., начинается с нее). Можно использовать методы, а можно срезы."
      ]
    },
    {
      "cell_type": "code",
      "execution_count": null,
      "id": "0ba49a97-fb56-48cf-a625-bbf94968eb44",
      "metadata": {
        "id": "0ba49a97-fb56-48cf-a625-bbf94968eb44",
        "colab": {
          "base_uri": "https://localhost:8080/"
        },
        "outputId": "d5a96061-8b8a-4f08-f268-897037a34c6b"
      },
      "outputs": [
        {
          "output_type": "stream",
          "name": "stdout",
          "text": [
            "переместиться\n",
            "True\n"
          ]
        }
      ],
      "source": [
        "inf = input()\n",
        "print(inf.startswith('пере') and inf.endswith('ся'))"
      ]
    },
    {
      "cell_type": "markdown",
      "id": "cc30d2fa-2ddb-494e-abad-d56766b97c60",
      "metadata": {
        "id": "cc30d2fa-2ddb-494e-abad-d56766b97c60"
      },
      "source": [
        "#### Задача 4.\n",
        "\n",
        "Дано положительное действительное число X. Выведите его первую цифру после десятичной точки, используя методы строк."
      ]
    },
    {
      "cell_type": "code",
      "execution_count": null,
      "id": "3f8e2fa0-63aa-4453-8103-e530aa31f892",
      "metadata": {
        "id": "3f8e2fa0-63aa-4453-8103-e530aa31f892",
        "colab": {
          "base_uri": "https://localhost:8080/"
        },
        "outputId": "3d5e1f97-7c32-420f-8ff5-c6ac742f1ea8"
      },
      "outputs": [
        {
          "output_type": "stream",
          "name": "stdout",
          "text": [
            "4.4546457\n",
            ".4\n"
          ]
        }
      ],
      "source": [
        "x = input()\n",
        "print(x[x.find('.') + 1])"
      ]
    },
    {
      "cell_type": "markdown",
      "id": "a665e8c7-6f59-490f-930f-bd3b0ae1d3e8",
      "metadata": {
        "id": "a665e8c7-6f59-490f-930f-bd3b0ae1d3e8"
      },
      "source": [
        "#### Задача 5.\n",
        "\n",
        "Пользователь вводит что-то с клавиатуры в цикле, предположительно, целые числа. Программа должна возвращать квадраты этих чисел, а если пользователь ввел что-то кроме числа, прекратить работу с сообщением об этом."
      ]
    },
    {
      "cell_type": "code",
      "execution_count": null,
      "id": "971e8581-7dcf-40ca-a739-6da9cb959f20",
      "metadata": {
        "id": "971e8581-7dcf-40ca-a739-6da9cb959f20",
        "colab": {
          "base_uri": "https://localhost:8080/"
        },
        "outputId": "1ba45e1e-7291-4734-96cf-efd111d130b7"
      },
      "outputs": [
        {
          "output_type": "stream",
          "name": "stdout",
          "text": [
            "Введите число:\n",
            "8\n",
            "64\n",
            "Введите число:\n",
            "9\n",
            "81\n",
            "Введите число:\n",
            "4\n",
            "16\n",
            "Введите число:\n",
            "12\n",
            "144\n",
            "Введите число:\n",
            "hello\n",
            "Вы ввели не число\n"
          ]
        }
      ],
      "source": [
        "while True:\n",
        "  print('Введите число:')\n",
        "  num = input()\n",
        "  if num.isdigit():\n",
        "    print(int(num) ** 2)\n",
        "  else:\n",
        "    print('Вы ввели не число')\n",
        "    break"
      ]
    },
    {
      "cell_type": "markdown",
      "id": "2b5b6174-b444-4c06-9eb1-74575cc6707d",
      "metadata": {
        "id": "2b5b6174-b444-4c06-9eb1-74575cc6707d"
      },
      "source": [
        "#### Задача 6.\n",
        "\n",
        "Нужно вывести таблицу умножения: на первой строчке выводятся 1 2 3 4 5 6 7 8 9, на второй 2 4 6 8 ...  и так далее."
      ]
    },
    {
      "cell_type": "code",
      "execution_count": null,
      "id": "ff350292-4693-45be-8b86-1b5449785e89",
      "metadata": {
        "id": "ff350292-4693-45be-8b86-1b5449785e89"
      },
      "outputs": [],
      "source": [
        "for i in range(1, 10):\n",
        "  for j in range(2, 10):\n",
        "    print(f'i: {i}\\tj: {j}\\ti * j: {i * j}')\n"
      ]
    },
    {
      "cell_type": "markdown",
      "id": "e529738e-62c5-4d26-9c1b-fc26ad4c7e18",
      "metadata": {
        "id": "e529738e-62c5-4d26-9c1b-fc26ad4c7e18"
      },
      "source": [
        "#### Задача 7.\n",
        "\n",
        "Пользователь вводит какие-то строки, которые наша программа должна приводить в \"заголовочный\" вид: все слова в строке с заглавной буквы. Когда пользователь вводит \"стоп\", программа должна завершить работу, причем ей неважно, в каком регистре введен \"стоп\", хоть заборчиком."
      ]
    },
    {
      "cell_type": "code",
      "execution_count": null,
      "id": "325072b8-c286-401a-b87b-864109ab6363",
      "metadata": {
        "id": "325072b8-c286-401a-b87b-864109ab6363"
      },
      "outputs": [],
      "source": []
    },
    {
      "cell_type": "markdown",
      "id": "de18633b-ca55-4948-ba03-183424e8126e",
      "metadata": {
        "id": "de18633b-ca55-4948-ba03-183424e8126e"
      },
      "source": [
        "#### Задача 8.\n",
        "\n",
        "Соберем, кстати, заборчик: пользователь вводит какое-то слово маленькими буквами, а мы должны его собрать таким образом, чтобы каждая вторая буква была заглавной."
      ]
    },
    {
      "cell_type": "code",
      "execution_count": null,
      "id": "86e5b65f-6257-4879-b9ab-a9b905974f02",
      "metadata": {
        "id": "86e5b65f-6257-4879-b9ab-a9b905974f02"
      },
      "outputs": [],
      "source": [
        "# your code here"
      ]
    },
    {
      "cell_type": "markdown",
      "id": "e6efc1a0-4d9d-4a97-91ec-43cd78c954e4",
      "metadata": {
        "id": "e6efc1a0-4d9d-4a97-91ec-43cd78c954e4"
      },
      "source": [
        "#### Задача 9.\n",
        "\n",
        "Пользователь вводит предложение (с пробелами, но без пунктуации). Проверьте, является ли это предложение палиндромом. Для тестирования можно использовать:\n",
        "\n",
        "    Аргентина манит негра\n",
        "    А роза упала на лапу Азора"
      ]
    },
    {
      "cell_type": "code",
      "execution_count": null,
      "id": "3ca91633-6e0c-4fd6-b688-3c22394f7069",
      "metadata": {
        "id": "3ca91633-6e0c-4fd6-b688-3c22394f7069"
      },
      "outputs": [],
      "source": [
        "# your code here"
      ]
    },
    {
      "cell_type": "markdown",
      "id": "9817e5e0-b5ac-4b38-ab9b-0aa43abc346d",
      "metadata": {
        "id": "9817e5e0-b5ac-4b38-ab9b-0aa43abc346d"
      },
      "source": [
        "#### Задача 10.\n",
        "\n",
        "Пользователь вводит целое число, в котором заранее мы не знаем, сколько цифр. Программа должна вернуть сумму цифр этого числа."
      ]
    },
    {
      "cell_type": "code",
      "execution_count": null,
      "id": "fac6a69b-3ff9-468a-9b10-198dc5fb2143",
      "metadata": {
        "id": "fac6a69b-3ff9-468a-9b10-198dc5fb2143"
      },
      "outputs": [],
      "source": [
        "# your code here"
      ]
    },
    {
      "cell_type": "markdown",
      "id": "15fec660-d51d-493e-a207-93e43e7a9d55",
      "metadata": {
        "id": "15fec660-d51d-493e-a207-93e43e7a9d55"
      },
      "source": [
        "#### Задача 11.\n",
        "\n",
        "Пользователь вводит любое число n. Программа должна вернуть строчку \"n корова\", причем слово \"корова\" должно согласоваться с числом: 1 корова, но 5 коров.  "
      ]
    },
    {
      "cell_type": "code",
      "execution_count": null,
      "id": "ea049d65-86eb-437d-98ee-34a213d7b08d",
      "metadata": {
        "id": "ea049d65-86eb-437d-98ee-34a213d7b08d"
      },
      "outputs": [],
      "source": [
        "# your code here"
      ]
    },
    {
      "cell_type": "markdown",
      "id": "5dd1abce-ad6e-4a64-bf0d-43bab643a283",
      "metadata": {
        "id": "5dd1abce-ad6e-4a64-bf0d-43bab643a283"
      },
      "source": [
        "#### Задача 12.\n",
        "\n",
        "Напишем программу для проверки подобранных рифм: пользователь в цикле вводит два слова, программа должна проверить, что у них совпадает не меньше четырех последних букв (будем наивно считать, что все читается, как пишется). Цикл останавливается, если первое из введенных слов не содержит букв."
      ]
    },
    {
      "cell_type": "code",
      "execution_count": null,
      "id": "d6cb1dc9-fe61-420e-b588-586ded160697",
      "metadata": {
        "id": "d6cb1dc9-fe61-420e-b588-586ded160697"
      },
      "outputs": [],
      "source": [
        "# your code here"
      ]
    }
  ],
  "metadata": {
    "kernelspec": {
      "display_name": "Python 3 (ipykernel)",
      "language": "python",
      "name": "python3"
    },
    "language_info": {
      "codemirror_mode": {
        "name": "ipython",
        "version": 3
      },
      "file_extension": ".py",
      "mimetype": "text/x-python",
      "name": "python",
      "nbconvert_exporter": "python",
      "pygments_lexer": "ipython3",
      "version": "3.9.12"
    },
    "colab": {
      "provenance": []
    }
  },
  "nbformat": 4,
  "nbformat_minor": 5
}