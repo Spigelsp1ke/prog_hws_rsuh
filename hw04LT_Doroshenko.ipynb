{
  "cells": [
    {
      "cell_type": "markdown",
      "id": "841be60e-9845-421c-be6a-4aacf5858d22",
      "metadata": {
        "id": "841be60e-9845-421c-be6a-4aacf5858d22"
      },
      "source": [
        "#### Задача 1.\n",
        "\n",
        "Пользователь вводит какие-то числа; программа должна выводить в ответ, четное число или нечетное, пока не будет введен 0."
      ]
    },
    {
      "cell_type": "code",
      "execution_count": null,
      "id": "9b4ee061-946b-49e4-b89c-a0eee3a513be",
      "metadata": {
        "id": "9b4ee061-946b-49e4-b89c-a0eee3a513be",
        "colab": {
          "base_uri": "https://localhost:8080/"
        },
        "outputId": "f9a2fd38-470e-4649-a47b-539a8c69fc88"
      },
      "outputs": [
        {
          "name": "stdout",
          "output_type": "stream",
          "text": [
            "2\n",
            "Четное число\n",
            "4\n",
            "Четное число\n",
            "89\n",
            "Нечетное число\n",
            "2345\n",
            "Нечетное число\n",
            "234\n",
            "Четное число\n",
            "0\n"
          ]
        }
      ],
      "source": [
        "while True:\n",
        "  num = int(input())\n",
        "  if num % 2 == 0 and not num == 0:\n",
        "    print('Четное число')\n",
        "  elif num % 2 > 0:\n",
        "    print('Нечетное число')\n",
        "  elif num == 0:\n",
        "    break"
      ]
    },
    {
      "cell_type": "markdown",
      "id": "f843e848-f6d1-44b3-abd3-e3c94712ad79",
      "metadata": {
        "id": "f843e848-f6d1-44b3-abd3-e3c94712ad79"
      },
      "source": [
        "#### Задача 2.\n",
        "\n",
        "Сперва пользователь вводит число n, а потом вводит n чисел. Нужно посчитать среднее арифметическое."
      ]
    },
    {
      "cell_type": "code",
      "execution_count": null,
      "id": "f2d246b1-17a0-4fff-9322-02b767c32bc6",
      "metadata": {
        "id": "f2d246b1-17a0-4fff-9322-02b767c32bc6",
        "colab": {
          "base_uri": "https://localhost:8080/"
        },
        "outputId": "5c9cc826-0b0f-41f7-c97a-926a0c1f4aef"
      },
      "outputs": [
        {
          "output_type": "stream",
          "name": "stdout",
          "text": [
            "5\n",
            "4\n",
            "3\n",
            "2\n",
            "1\n",
            "5\n",
            "3.0\n"
          ]
        }
      ],
      "source": [
        "n = int(input())\n",
        "sum = 0\n",
        "for i in range(n):\n",
        "  sum += int(input())\n",
        "print(f'{sum / n}')"
      ]
    },
    {
      "cell_type": "markdown",
      "id": "f24a0fe9-ee3c-4d0e-a0c7-3d246ee1ade7",
      "metadata": {
        "id": "f24a0fe9-ee3c-4d0e-a0c7-3d246ee1ade7"
      },
      "source": [
        "#### Задача 3.\n",
        "\n",
        "Дано натуральное число n. Напечатайте все n-значные нечетные натуральные числа в порядке убывания. Условными конструкциями пользоваться запрещено.\n",
        "\n",
        "То есть, для введенного 2 должно начинаться как:\n",
        "\n",
        "    99\n",
        "    97\n",
        "    95\n",
        "    93\n",
        "    91\n",
        "    ..."
      ]
    },
    {
      "cell_type": "code",
      "execution_count": null,
      "id": "91eb0be3-f330-4756-817a-1800ca52d5bf",
      "metadata": {
        "id": "91eb0be3-f330-4756-817a-1800ca52d5bf",
        "colab": {
          "base_uri": "https://localhost:8080/"
        },
        "outputId": "31dc2265-f966-48a3-b0b0-756444e1939a"
      },
      "outputs": [
        {
          "output_type": "stream",
          "name": "stdout",
          "text": [
            "2\n",
            "99 97 95 93 91 89 87 85 83 81 79 77 75 73 71 69 67 65 63 61 59 57 55 53 51 49 47 45 43 41 39 37 35 33 31 29 27 25 23 21 19 17 15 13 11 "
          ]
        }
      ],
      "source": [
        "n = int(input())\n",
        "for num in range(10**n - 1, 10**(n - 1), -2):\n",
        "  print(num, end = ' ')"
      ]
    },
    {
      "cell_type": "markdown",
      "id": "14a54f0a-0600-4024-b37b-e174c2c0c27d",
      "metadata": {
        "id": "14a54f0a-0600-4024-b37b-e174c2c0c27d"
      },
      "source": [
        "#### Задача 4.\n",
        "\n",
        "По данному натуральному n ≤ 9 выведите лесенку из n ступенек, i-я ступенька состоит из чисел от 1 до i без пробелов. То есть, должно быть что-то такое:\n",
        "\n",
        "    1\n",
        "    12\n",
        "    123\n",
        "    1234"
      ]
    },
    {
      "cell_type": "code",
      "execution_count": null,
      "id": "eea26fe1-a85c-48b8-9a80-f2d1ab182f58",
      "metadata": {
        "id": "eea26fe1-a85c-48b8-9a80-f2d1ab182f58",
        "colab": {
          "base_uri": "https://localhost:8080/"
        },
        "outputId": "349f1c6a-1a1e-4a69-e686-ad698be97dc3"
      },
      "outputs": [
        {
          "output_type": "stream",
          "name": "stdout",
          "text": [
            "5\n",
            "1\n",
            "12\n",
            "123\n",
            "1234\n",
            "12345\n"
          ]
        }
      ],
      "source": [
        "n = int(input())\n",
        "for i in range(1, n + 1):\n",
        "  for j in range(1, i + 1):\n",
        "    print(f'{j}', end='')\n",
        "  print()"
      ]
    },
    {
      "cell_type": "markdown",
      "id": "69f4780b-d5f4-478b-ada4-02ad98b20156",
      "metadata": {
        "id": "69f4780b-d5f4-478b-ada4-02ad98b20156"
      },
      "source": [
        "#### Задача 5.\n",
        "\n",
        "Пользователь вводит целые (не обязательно положительные) числа. Программа должна вывести самое большое введенное число. Списками пользоваться нельзя."
      ]
    },
    {
      "cell_type": "code",
      "execution_count": 25,
      "id": "84708216-b8a8-44ab-87ff-f3b8a8d08e96",
      "metadata": {
        "id": "84708216-b8a8-44ab-87ff-f3b8a8d08e96",
        "colab": {
          "base_uri": "https://localhost:8080/"
        },
        "outputId": "04c2c01e-9a2c-48d4-c2e7-505ea1dca9ac"
      },
      "outputs": [
        {
          "output_type": "stream",
          "name": "stdout",
          "text": [
            "3\n",
            "9\n",
            "4\n",
            "100\n",
            "100\n"
          ]
        }
      ],
      "source": [
        "max = 0\n",
        "n = int(input())\n",
        "for i in range(n):\n",
        "  num = int(input())\n",
        "  if num > max:\n",
        "    max = num\n",
        "print(max)"
      ]
    }
  ],
  "metadata": {
    "kernelspec": {
      "display_name": "Python 3 (ipykernel)",
      "language": "python",
      "name": "python3"
    },
    "language_info": {
      "codemirror_mode": {
        "name": "ipython",
        "version": 3
      },
      "file_extension": ".py",
      "mimetype": "text/x-python",
      "name": "python",
      "nbconvert_exporter": "python",
      "pygments_lexer": "ipython3",
      "version": "3.9.12"
    },
    "colab": {
      "provenance": []
    }
  },
  "nbformat": 4,
  "nbformat_minor": 5
}